{
  "nbformat": 4,
  "nbformat_minor": 0,
  "metadata": {
    "colab": {
      "provenance": [],
      "authorship_tag": "ABX9TyOzAdV79cvaDsfpvM+0oGW6",
      "include_colab_link": true
    },
    "kernelspec": {
      "name": "python3",
      "display_name": "Python 3"
    },
    "language_info": {
      "name": "python"
    }
  },
  "cells": [
    {
      "cell_type": "markdown",
      "metadata": {
        "id": "view-in-github",
        "colab_type": "text"
      },
      "source": [
        "<a href=\"https://colab.research.google.com/github/newmantic/reverse_stress_testing/blob/main/reverse_stress_testing.ipynb\" target=\"_parent\"><img src=\"https://colab.research.google.com/assets/colab-badge.svg\" alt=\"Open In Colab\"/></a>"
      ]
    },
    {
      "cell_type": "code",
      "execution_count": 2,
      "metadata": {
        "id": "A9FisAsI7_9k"
      },
      "outputs": [],
      "source": [
        "import numpy as np\n",
        "import pandas as pd"
      ]
    },
    {
      "cell_type": "code",
      "source": [
        "class BankBalanceSheet:\n",
        "    def __init__(self, assets, liabilities, capital):\n",
        "        self.assets = assets\n",
        "        self.liabilities = liabilities\n",
        "        self.capital = capital\n",
        "\n",
        "    def calculate_capital_ratio(self):\n",
        "        return self.capital / self.assets\n",
        "\n",
        "    def apply_stress_scenario(self, asset_loss, liability_increase):\n",
        "        stressed_assets = self.assets - asset_loss\n",
        "        stressed_liabilities = self.liabilities + liability_increase\n",
        "        stressed_capital = stressed_assets - stressed_liabilities\n",
        "        stressed_capital_ratio = stressed_capital / stressed_assets\n",
        "        return {\n",
        "            'Stressed Assets': stressed_assets,\n",
        "            'Stressed Liabilities': stressed_liabilities,\n",
        "            'Stressed Capital': stressed_capital,\n",
        "            'Stressed Capital Ratio': stressed_capital_ratio\n",
        "        }"
      ],
      "metadata": {
        "id": "h5LWNkrB8UQJ"
      },
      "execution_count": 1,
      "outputs": []
    },
    {
      "cell_type": "code",
      "source": [
        "def reverse_stress_testing(bank, critical_capital_ratio, max_asset_loss=0.50, max_liability_increase=0.50, step=0.01):\n",
        "    results = []\n",
        "\n",
        "    asset_loss_range = np.arange(0, max_asset_loss + step, step)\n",
        "    liability_increase_range = np.arange(0, max_liability_increase + step, step)\n",
        "\n",
        "    for asset_loss_rate in asset_loss_range:\n",
        "        for liability_increase_rate in liability_increase_range:\n",
        "            impact = bank.apply_stress_scenario(\n",
        "                asset_loss=bank.assets * asset_loss_rate,\n",
        "                liability_increase=bank.liabilities * liability_increase_rate\n",
        "            )\n",
        "\n",
        "            if impact['Stressed Capital Ratio'] <= critical_capital_ratio:\n",
        "                results.append({\n",
        "                    'Asset Loss Rate': asset_loss_rate,\n",
        "                    'Liability Increase Rate': liability_increase_rate,\n",
        "                    'Stressed Capital Ratio': impact['Stressed Capital Ratio'],\n",
        "                    'Stressed Capital': impact['Stressed Capital']\n",
        "                })\n",
        "\n",
        "    return pd.DataFrame(results)"
      ],
      "metadata": {
        "id": "DEJvMiPD8ZCw"
      },
      "execution_count": 3,
      "outputs": []
    },
    {
      "cell_type": "code",
      "source": [
        "# Define a bank's balance sheet\n",
        "assets = 1000000  # Total assets in monetary units\n",
        "liabilities = 800000  # Total liabilities in monetary units\n",
        "capital = assets - liabilities  # Capital is the difference between assets and liabilities\n",
        "\n",
        "# Instantiate the BankBalanceSheet object\n",
        "bank = BankBalanceSheet(assets=assets, liabilities=liabilities, capital=capital)\n",
        "\n",
        "# Define the critical capital ratio (e.g., regulatory minimum of 8%)\n",
        "critical_capital_ratio = 0.08\n",
        "\n",
        "# Perform reverse stress testing\n",
        "results = reverse_stress_testing(bank, critical_capital_ratio)\n",
        "\n",
        "# Display the results\n",
        "print(results)"
      ],
      "metadata": {
        "id": "G99TRUKR8bfR",
        "colab": {
          "base_uri": "https://localhost:8080/"
        },
        "outputId": "f3b5fb1b-8bef-4905-d04a-12519a01fc33"
      },
      "execution_count": 4,
      "outputs": [
        {
          "output_type": "stream",
          "name": "stdout",
          "text": [
            "      Asset Loss Rate  Liability Increase Rate  Stressed Capital Ratio  \\\n",
            "0                 0.0                     0.15                   0.080   \n",
            "1                 0.0                     0.16                   0.072   \n",
            "2                 0.0                     0.17                   0.064   \n",
            "3                 0.0                     0.18                   0.056   \n",
            "4                 0.0                     0.19                   0.048   \n",
            "...               ...                      ...                     ...   \n",
            "2484              0.5                     0.46                  -1.336   \n",
            "2485              0.5                     0.47                  -1.352   \n",
            "2486              0.5                     0.48                  -1.368   \n",
            "2487              0.5                     0.49                  -1.384   \n",
            "2488              0.5                     0.50                  -1.400   \n",
            "\n",
            "      Stressed Capital  \n",
            "0              80000.0  \n",
            "1              72000.0  \n",
            "2              64000.0  \n",
            "3              56000.0  \n",
            "4              48000.0  \n",
            "...                ...  \n",
            "2484         -668000.0  \n",
            "2485         -676000.0  \n",
            "2486         -684000.0  \n",
            "2487         -692000.0  \n",
            "2488         -700000.0  \n",
            "\n",
            "[2489 rows x 4 columns]\n"
          ]
        }
      ]
    }
  ]
}